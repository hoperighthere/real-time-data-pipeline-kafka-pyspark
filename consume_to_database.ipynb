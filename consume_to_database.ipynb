{
 "cells": [
  {
   "cell_type": "code",
   "execution_count": null,
   "id": "8ccc942a-5fbb-443d-b136-0ba4e0918542",
   "metadata": {},
   "outputs": [],
   "source": [
    "from kafka import KafkaConsumer\n",
    "import psycopg2\n",
    "import os\n",
    "from dotenv import load_dotenv"
   ]
  },
  {
   "cell_type": "code",
   "execution_count": null,
   "id": "fe946789-6a9b-46b3-a12f-e60aaa074dfd",
   "metadata": {},
   "outputs": [],
   "source": [
    "PG_HOST=os.getenv(\"PG_HOST\")\n",
    "PG_PORT=os.getenv(\"PG_PORT\")\n",
    "PG_USER=os.getenv(\"PG_USER\")\n",
    "PG_PASSWORD=os.getenv(\"PG_PASSWORD\")\n",
    "PG_DATABASE=os.getenv(\"PG_DATABASE\")"
   ]
  },
  {
   "cell_type": "code",
   "execution_count": null,
   "id": "72303ede-2520-4a05-a38f-db89d34844d0",
   "metadata": {},
   "outputs": [],
   "source": [
    "TOPIC_NAME = os.getenv(\"KAFKA_TOPIC1\")\n",
    "KAFKA_BOOTSTRAP_SERVER = ['localhost:9092']"
   ]
  },
  {
   "cell_type": "code",
   "execution_count": null,
   "id": "59a17c34-43d7-49ef-8ed5-bd9320f51e29",
   "metadata": {},
   "outputs": [],
   "source": [
    "consumer = KafkaConsumer(\n",
    "    TOPIC_NAME,\n",
    "    bootstrap_servers=KAFKA_BOOTSTRAP_SERVER,\n",
    "    auto_offset_reset='earliest'\n",
    ")"
   ]
  },
  {
   "cell_type": "code",
   "execution_count": null,
   "id": "96adf775-26a2-420b-bff4-2c9746788611",
   "metadata": {},
   "outputs": [],
   "source": [
    "conn = psycopg2.connect(\n",
    "    host=PG_HOST,\n",
    "    port=PG_PORT,\n",
    "    user=PG_USER,\n",
    "    password=PG_PASSWORD,\n",
    "    database=PG_DATABASE\n",
    ")\n",
    "cur = conn.cursor()"
   ]
  },
  {
   "cell_type": "code",
   "execution_count": null,
   "id": "e33e38f6-19ea-458b-80f2-315cff729055",
   "metadata": {},
   "outputs": [],
   "source": [
    "insert_query = \"\"\"\n",
    "INSERT INTO metrics (id, cpu, mem, disk)\n",
    "VALUES (%s, %s, %s, %s)\n",
    "\"\"\""
   ]
  },
  {
   "cell_type": "code",
   "execution_count": null,
   "id": "6bf9add0-6349-4047-97a3-9d41584db474",
   "metadata": {},
   "outputs": [],
   "source": [
    "for message in consumer:\n",
    "    data = message.value\n",
    "\n",
    "    value = message.value.decode('utf-8')\n",
    "    numbers = tuple([int(item.split(\":\")[1].strip()) for item in value.split(\",\")])\n",
    " \n",
    "    # Insert data into PostgreSQL table\n",
    "    cur.execute(insert_query,numbers)\n",
    "    conn.commit()\n",
    "\n",
    "    print(f\"Received message:value = {numbers}\")\n"
   ]
  },
  {
   "cell_type": "code",
   "execution_count": null,
   "id": "2fe56801-d532-4b1c-b1f5-d420369c8d54",
   "metadata": {},
   "outputs": [],
   "source": [
    "# Close connections\n",
    "consumer.close()\n",
    "cur.close()\n",
    "conn.close()"
   ]
  },
  {
   "cell_type": "code",
   "execution_count": null,
   "id": "6ad231a4-c041-40bd-9dfb-bc27b2616d2c",
   "metadata": {},
   "outputs": [],
   "source": []
  }
 ],
 "metadata": {
  "kernelspec": {
   "display_name": "Python 3 (ipykernel)",
   "language": "python",
   "name": "python3"
  },
  "language_info": {
   "codemirror_mode": {
    "name": "ipython",
    "version": 3
   },
   "file_extension": ".py",
   "mimetype": "text/x-python",
   "name": "python",
   "nbconvert_exporter": "python",
   "pygments_lexer": "ipython3",
   "version": "3.11.8"
  },
  "widgets": {
   "application/vnd.jupyter.widget-state+json": {
    "state": {},
    "version_major": 2,
    "version_minor": 0
   }
  }
 },
 "nbformat": 4,
 "nbformat_minor": 5
}
