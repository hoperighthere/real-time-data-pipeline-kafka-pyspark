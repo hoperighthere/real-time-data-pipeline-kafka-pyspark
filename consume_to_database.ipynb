{
 "cells": [
  {
   "cell_type": "code",
   "execution_count": null,
   "id": "8ccc942a-5fbb-443d-b136-0ba4e0918542",
   "metadata": {},
   "outputs": [],
   "source": [
    "from kafka import KafkaConsumer\n",
    "import psycopg2\n",
    "import os\n",
    "from dotenv import load_dotenv"
   ]
  },
  {
   "cell_type": "code",
   "execution_count": null,
   "id": "fe946789-6a9b-46b3-a12f-e60aaa074dfd",
   "metadata": {},
   "outputs": [],
   "source": [
    "PG_HOST=os.getenv(\"PG_HOST\")\n",
    "PG_PORT=os.getenv(\"PG_PORT\")\n",
    "PG_USER=os.getenv(\"PG_USER\")\n",
    "PG_PASSWORD=os.getenv(\"PG_PASSWORD\")\n",
    "PG_DATABASE=os.getenv(\"PG_DATABASE\")"
   ]
  },
  {
   "cell_type": "code",
   "execution_count": null,
   "id": "72303ede-2520-4a05-a38f-db89d34844d0",
   "metadata": {},
   "outputs": [],
   "source": [
    "TOPIC_NAME = os.getenv(\"KAFKA_TOPIC1\")\n",
    "KAFKA_BOOTSTRAP_SERVER = ['localhost:9092']"
   ]
  },
  {
   "cell_type": "code",
   "execution_count": null,
   "id": "59a17c34-43d7-49ef-8ed5-bd9320f51e29",
   "metadata": {},
   "outputs": [],
   "source": [
    "consumer = KafkaConsumer(\n",
    "    TOPIC_NAME,\n",
    "    bootstrap_servers=KAFKA_BOOTSTRAP_SERVER,\n",
    "    auto_offset_reset='earliest'\n",
    ")"
   ]
  },
  {
   "cell_type": "code",
   "execution_count": null,
   "id": "96adf775-26a2-420b-bff4-2c9746788611",
   "metadata": {},
   "outputs": [],
   "source": [
    "conn = psycopg2.connect(\n",
    "    host=PG_HOST,\n",
    "    port=PG_PORT,\n",
    "    user=PG_USER,\n",
    "    password=PG_PASSWORD,\n",
    "    database=PG_DATABASE\n",
    ")\n",
    "cur = conn.cursor()"
   ]
  },
  {
   "cell_type": "code",
   "execution_count": null,
   "id": "e33e38f6-19ea-458b-80f2-315cff729055",
   "metadata": {},
   "outputs": [],
   "source": [
    "insert_query = \"\"\"\n",
    "INSERT INTO metrics (id, cpu, mem, disk)\n",
    "VALUES (%s, %s, %s, %s)\n",
    "\"\"\""
   ]
  },
  {
   "cell_type": "code",
   "execution_count": null,
   "id": "6bf9add0-6349-4047-97a3-9d41584db474",
   "metadata": {},
   "outputs": [],
   "source": [
    "for message in consumer:\n",
    "    data = message.value\n",
    "\n",
    "    value = message.value.decode('utf-8')\n",
    "    numbers = tuple([int(item.split(\":\")[1].strip()) for item in value.split(\",\")])\n",
    " \n",
    "    # Insert data into PostgreSQL table\n",
    "    cur.execute(insert_query,numbers)\n",
    "    conn.commit()\n",
    "\n",
    "    print(f\"Received message:value = {numbers}\")\n"
   ]
  },
  {
   "cell_type": "code",
   "execution_count": null,
   "id": "2fe56801-d532-4b1c-b1f5-d420369c8d54",
   "metadata": {},
   "outputs": [],
   "source": [
    "# Close connections\n",
    "consumer.close()\n",
    "cur.close()\n",
    "conn.close()"
   ]
  },
  {
   "cell_type": "code",
   "execution_count": null,
   "id": "6ad231a4-c041-40bd-9dfb-bc27b2616d2c",
   "metadata": {},
   "outputs": [],
   "source": []
  },
  {
   "cell_type": "code",
   "execution_count": null,
   "id": "57e77f48-a031-4bc1-96e5-4c12cea8ca03",
   "metadata": {},
   "outputs": [],
   "source": []
  },
  {
   "cell_type": "code",
   "execution_count": null,
   "id": "2b499c69-f32c-4171-aa35-61ce00027c59",
   "metadata": {},
   "outputs": [],
   "source": []
  },
  {
   "cell_type": "code",
   "execution_count": null,
   "id": "1d188b2e-f1ae-4bd9-9caf-fd070517d2c8",
   "metadata": {},
   "outputs": [],
   "source": []
  },
  {
   "cell_type": "code",
   "execution_count": null,
   "id": "fbcabfb2-c0d4-4eb2-a26a-9e4e6e7f786c",
   "metadata": {},
   "outputs": [],
   "source": []
  },
  {
   "cell_type": "code",
   "execution_count": null,
   "id": "7b29ac3f-20ac-46c4-a87e-b46dc5f17298",
   "metadata": {},
   "outputs": [],
   "source": []
  },
  {
   "cell_type": "code",
   "execution_count": null,
   "id": "062c1598-1ef3-46c6-903c-96d30465746e",
   "metadata": {},
   "outputs": [],
   "source": []
  },
  {
   "cell_type": "code",
   "execution_count": null,
   "id": "e587b9a7-01c8-43d3-af93-e65f0bd7c6c5",
   "metadata": {},
   "outputs": [],
   "source": []
  },
  {
   "cell_type": "code",
   "execution_count": null,
   "id": "a105bcef-33d3-4fbc-9546-a963adea9239",
   "metadata": {},
   "outputs": [],
   "source": []
  },
  {
   "cell_type": "code",
   "execution_count": null,
   "id": "bc9e9dc4-df3e-42e2-ae1a-1c6f087f1b6c",
   "metadata": {},
   "outputs": [],
   "source": []
  },
  {
   "cell_type": "code",
   "execution_count": null,
   "id": "7669833f-4dd0-4c76-8c7d-0a2fe8e25aee",
   "metadata": {},
   "outputs": [],
   "source": []
  },
  {
   "cell_type": "code",
   "execution_count": null,
   "id": "c219a634-5ad2-4ef7-afaa-761988a40064",
   "metadata": {},
   "outputs": [],
   "source": []
  },
  {
   "cell_type": "code",
   "execution_count": null,
   "id": "c28cd210-2c9d-47e9-9a1b-d7b2e4999761",
   "metadata": {},
   "outputs": [],
   "source": []
  },
  {
   "cell_type": "code",
   "execution_count": null,
   "id": "346fa1b4-adc3-41f0-b969-6e33162f6e4c",
   "metadata": {},
   "outputs": [],
   "source": []
  },
  {
   "cell_type": "code",
   "execution_count": null,
   "id": "e8f54b31-c61b-46fd-9a64-4769600a6eb6",
   "metadata": {},
   "outputs": [],
   "source": []
  },
  {
   "cell_type": "code",
   "execution_count": null,
   "id": "a272080a-13af-4f40-a5ab-96cb090ca2ae",
   "metadata": {},
   "outputs": [],
   "source": []
  }
 ],
 "metadata": {
  "kernelspec": {
   "display_name": "Python 3 (ipykernel)",
   "language": "python",
   "name": "python3"
  },
  "language_info": {
   "codemirror_mode": {
    "name": "ipython",
    "version": 3
   },
   "file_extension": ".py",
   "mimetype": "text/x-python",
   "name": "python",
   "nbconvert_exporter": "python",
   "pygments_lexer": "ipython3",
   "version": "3.11.7"
  },
  "widgets": {
   "application/vnd.jupyter.widget-state+json": {
    "state": {},
    "version_major": 2,
    "version_minor": 0
   }
  }
 },
 "nbformat": 4,
 "nbformat_minor": 5
}
